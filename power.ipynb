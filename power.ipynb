{
 "cells": [
  {
   "cell_type": "markdown",
   "metadata": {},
   "source": [
    "Calculate Power per hour during day, power per hour during night"
   ]
  },
  {
   "cell_type": "code",
   "execution_count": 4,
   "metadata": {},
   "outputs": [
    {
     "name": "stdout",
     "output_type": "stream",
     "text": [
      "Day hours:  9\n",
      "Night hours:  15\n"
     ]
    }
   ],
   "source": [
    "ROLLOUT_INTERVAL = 60 * 60 # Seconds\n",
    "ROLLOUT_SPEED = 15 # mm/s\n",
    "DAY_ROLLOUT_LENGTH = 500 # mm\n",
    "NIGHT_ROLLOUT_LENGTH = 100 # mm\n",
    "TOTAL_LENGTH = 30 # m\n",
    "\n",
    "TIME_START = 9\n",
    "TIME_END = 18\n",
    "\n",
    "NUM_MOTORS = 4\n",
    "\n",
    "day_hours = TIME_END - TIME_START\n",
    "night_hours = 24 - day_hours\n",
    "\n",
    "print(\"Day hours: \", day_hours)\n",
    "print(\"Night hours: \", night_hours)"
   ]
  },
  {
   "cell_type": "code",
   "execution_count": 5,
   "metadata": {},
   "outputs": [
    {
     "name": "stdout",
     "output_type": "stream",
     "text": [
      "Day rollout time: 0.03704 hours\n",
      "Day idle time: 0.96296 hours\n",
      "Night rollout time: 0.00741 hours\n",
      "Night idle time: 0.99259 hours\n"
     ]
    }
   ],
   "source": [
    "day_rollout_time = DAY_ROLLOUT_LENGTH / ROLLOUT_SPEED / 3600 * NUM_MOTORS\n",
    "day_idle_time = 1 - day_rollout_time\n",
    "\n",
    "night_rollout_time = NIGHT_ROLLOUT_LENGTH / ROLLOUT_SPEED / 3600 * NUM_MOTORS\n",
    "night_idle_time = 1 - night_rollout_time\n",
    "\n",
    "print(\"Day rollout time: {:.5f} hours\".format(day_rollout_time))\n",
    "print(\"Day idle time: {:.5f} hours\".format(day_idle_time))\n",
    "print(\"Night rollout time: {:.5f} hours\".format(night_rollout_time))\n",
    "print(\"Night idle time: {:.5f} hours\".format(night_idle_time))"
   ]
  },
  {
   "cell_type": "code",
   "execution_count": 6,
   "metadata": {},
   "outputs": [
    {
     "name": "stdout",
     "output_type": "stream",
     "text": [
      "Battery capacity: 12.58 Ah\n"
     ]
    }
   ],
   "source": [
    "battery_Wh = 151\n",
    "battery = 151 / 12 # Ah\n",
    "print(\"Battery capacity: {:.2f} Ah\".format(battery))\n",
    "\n",
    "rollout_current = 2.2 # A\n",
    "idle_current = 0.062 # A"
   ]
  },
  {
   "cell_type": "code",
   "execution_count": 7,
   "metadata": {},
   "outputs": [
    {
     "name": "stdout",
     "output_type": "stream",
     "text": [
      "Day energy per hour: 0.14 Ah\n",
      "Night energy per hour: 0.08 Ah\n"
     ]
    }
   ],
   "source": [
    "day_energy_per_hour = day_rollout_time * rollout_current + day_idle_time * idle_current # Ah / h\n",
    "night_energy_per_hour = night_rollout_time * rollout_current + night_idle_time * idle_current # Ah / h\n",
    "\n",
    "print(\"Day energy per hour: {:.2f} Ah\".format(day_energy_per_hour))\n",
    "print(\"Night energy per hour: {:.2f} Ah\".format(night_energy_per_hour))"
   ]
  },
  {
   "cell_type": "code",
   "execution_count": 8,
   "metadata": {},
   "outputs": [
    {
     "name": "stdout",
     "output_type": "stream",
     "text": [
      "Energy per day: 2.44 Ah\n"
     ]
    }
   ],
   "source": [
    "energy_per_day = day_energy_per_hour * day_hours + night_energy_per_hour * night_hours\n",
    "print(\"Energy per day: {:.2f} Ah\".format(energy_per_day))"
   ]
  },
  {
   "cell_type": "markdown",
   "metadata": {},
   "source": [
    "# Test 1\n",
    "\n",
    "Current draw of 3.35A (3.3-3.36)\n",
    "\n",
    "2 hour 59 minutes (179 minutes)"
   ]
  },
  {
   "cell_type": "code",
   "execution_count": 9,
   "metadata": {},
   "outputs": [
    {
     "name": "stdout",
     "output_type": "stream",
     "text": [
      "Total energy: 119.93 Wh\n",
      "12V Conversion efficiency at 3.35A: 79.42%\n"
     ]
    }
   ],
   "source": [
    "alive_time = 179 / 60 # hours\n",
    "power_draw = 3.35 * 12 # 3.35A at 12V\n",
    "total_energy = power_draw * alive_time\n",
    "print(\"Total energy: {:.2f} Wh\".format(total_energy))\n",
    "# Assuming battery capacity is as advertised\n",
    "print(\"12V Conversion efficiency at 3.35A: {:.2f}%\".format(total_energy / battery_Wh * 100))"
   ]
  },
  {
   "cell_type": "markdown",
   "metadata": {},
   "source": [
    "# Test 2\n",
    "\n",
    "50% of the time idle, 50% at 3.35A\n",
    "Measure time until death"
   ]
  },
  {
   "cell_type": "code",
   "execution_count": 15,
   "metadata": {},
   "outputs": [],
   "source": [
    "idle_percent = 0.95\n",
    "run_percent = 1 - idle_percent\n",
    "\n",
    "idle_power = 0.001 * 12 # \n",
    "run_power = 1.2 * 12    # "
   ]
  },
  {
   "cell_type": "code",
   "execution_count": 16,
   "metadata": {},
   "outputs": [
    {
     "name": "stdout",
     "output_type": "stream",
     "text": [
      "Battery life: 5.58 days\n"
     ]
    }
   ],
   "source": [
    "idle_efficiency = 0.05\n",
    "run_efficiency = 0.8\n",
    "\n",
    "energy_per_hour = idle_power * idle_percent / idle_efficiency + run_power * run_percent / run_efficiency # Wh\n",
    "battery_life = battery_Wh / energy_per_hour # hours\n",
    "print(\"Battery life: {:.2f} days\".format(battery_life / 24))"
   ]
  },
  {
   "cell_type": "code",
   "execution_count": 12,
   "metadata": {},
   "outputs": [
    {
     "ename": "NameError",
     "evalue": "name 'run_energy' is not defined",
     "output_type": "error",
     "traceback": [
      "\u001b[0;31m---------------------------------------------------------------------------\u001b[0m",
      "\u001b[0;31mNameError\u001b[0m                                 Traceback (most recent call last)",
      "Cell \u001b[0;32mIn[12], line 3\u001b[0m\n\u001b[1;32m      1\u001b[0m alive_time \u001b[38;5;241m=\u001b[39m \u001b[38;5;241m300\u001b[39m \u001b[38;5;241m/\u001b[39m \u001b[38;5;241m60\u001b[39m \u001b[38;5;66;03m# hours, here's the measurement\u001b[39;00m\n\u001b[0;32m----> 3\u001b[0m idle_energy \u001b[38;5;241m=\u001b[39m battery_Wh \u001b[38;5;241m-\u001b[39m \u001b[43mrun_energy\u001b[49m\n\u001b[1;32m      4\u001b[0m \u001b[38;5;28mprint\u001b[39m(\u001b[38;5;124m\"\u001b[39m\u001b[38;5;124mRun energy: \u001b[39m\u001b[38;5;132;01m{:.2f}\u001b[39;00m\u001b[38;5;124m Wh\u001b[39m\u001b[38;5;124m\"\u001b[39m\u001b[38;5;241m.\u001b[39mformat(run_energy))\n\u001b[1;32m      5\u001b[0m \u001b[38;5;28mprint\u001b[39m(\u001b[38;5;124m\"\u001b[39m\u001b[38;5;124mIdle energy: \u001b[39m\u001b[38;5;132;01m{:.2f}\u001b[39;00m\u001b[38;5;124m Wh\u001b[39m\u001b[38;5;124m\"\u001b[39m\u001b[38;5;241m.\u001b[39mformat(idle_energy))\n",
      "\u001b[0;31mNameError\u001b[0m: name 'run_energy' is not defined"
     ]
    }
   ],
   "source": [
    "alive_time = 300 / 60 # hours, here's the measurement\n",
    "\n",
    "idle_energy = battery_Wh - run_energy\n",
    "print(\"Run energy: {:.2f} Wh\".format(run_energy))\n",
    "print(\"Idle energy: {:.2f} Wh\".format(idle_energy))\n",
    "\n",
    "idle_efficiency = (idle_current * 12 * idle_time) / idle_energy * 100\n",
    "print(\"Idle efficiency: {:.2f}%\".format(idle_efficiency))"
   ]
  },
  {
   "cell_type": "code",
   "execution_count": null,
   "metadata": {},
   "outputs": [],
   "source": []
  }
 ],
 "metadata": {
  "kernelspec": {
   "display_name": "Python 3",
   "language": "python",
   "name": "python3"
  },
  "language_info": {
   "codemirror_mode": {
    "name": "ipython",
    "version": 3
   },
   "file_extension": ".py",
   "mimetype": "text/x-python",
   "name": "python",
   "nbconvert_exporter": "python",
   "pygments_lexer": "ipython3",
   "version": "3.13.2"
  }
 },
 "nbformat": 4,
 "nbformat_minor": 2
}
